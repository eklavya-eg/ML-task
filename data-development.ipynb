{
 "cells": [
  {
   "cell_type": "markdown",
   "metadata": {},
   "source": [
    "name: Eklavya Gupta\n",
    "university: University of Petroleum and Energy Studies\n",
    "course: B.Tech CSE AI ML   # currently in 5th semester\n",
    "sapid: 500093960\n",
    "university mail id: 500093960@stu.upes.ac.in\n",
    "personal mail id: emessage.eg@gmail.com"
   ]
  },
  {
   "cell_type": "markdown",
   "metadata": {},
   "source": [
    "import dependencied"
   ]
  },
  {
   "cell_type": "code",
   "execution_count": 3,
   "metadata": {},
   "outputs": [],
   "source": [
    "# name: Eklavya Gupta\n",
    "# university: University of Petroleum and Energy Studies\n",
    "# course: B.Tech CSE AI ML   # currently in 5th semester\n",
    "# sapid: 500093960\n",
    "# university mail id: 500093960@stu.upes.ac.in\n",
    "# personal mail id: emessage.eg@gmail.com\n",
    "\n",
    "import matplotlib.pyplot as plt\n",
    "import cv2\n",
    "import numpy as np\n",
    "import os\n",
    "import random\n",
    "from utils import *"
   ]
  },
  {
   "cell_type": "markdown",
   "metadata": {},
   "source": [
    "data augmetation on trainging/BG"
   ]
  },
  {
   "cell_type": "code",
   "execution_count": 2,
   "metadata": {},
   "outputs": [
    {
     "name": "stdout",
     "output_type": "stream",
     "text": [
      "done\n"
     ]
    }
   ],
   "source": [
    "augmentedMirroring(imageDir=os.path.join(os.getcwd(), 'DataCollection', 'BG'), savingDir=os.path.join(os.getcwd(), 'AugmentedData', 'BG'))"
   ]
  },
  {
   "cell_type": "code",
   "execution_count": 3,
   "metadata": {},
   "outputs": [
    {
     "name": "stdout",
     "output_type": "stream",
     "text": [
      "done angle 90\n",
      "done angle 180\n"
     ]
    }
   ],
   "source": [
    "augmentedRotation(imageDir=os.path.join(os.getcwd(), 'DataCollection', 'BG'), savingDir=os.path.join(os.getcwd(), 'AugmentedData', 'BG'), angles=[90, 180])"
   ]
  },
  {
   "cell_type": "code",
   "execution_count": 4,
   "metadata": {},
   "outputs": [
    {
     "name": "stdout",
     "output_type": "stream",
     "text": [
      "done shear factor(0.1, 0.2)\n",
      "done shear factor(0.2, 0.1)\n"
     ]
    }
   ],
   "source": [
    "augmentedShearing(imageDir=os.path.join(os.getcwd(), 'DataCollection', 'BG'), savingDir=os.path.join(os.getcwd(), 'AugmentedData', 'BG'), shearFactor=[(0.1, 0.2), (0.2, 0.1)])"
   ]
  },
  {
   "cell_type": "code",
   "execution_count": 2,
   "metadata": {},
   "outputs": [
    {
     "name": "stdout",
     "output_type": "stream",
     "text": [
      "maximum height: 33\n",
      "maximum width: 33\n",
      "maximum height: 573\n",
      "maximum width: 573\n"
     ]
    }
   ],
   "source": [
    "minH_BG, minW_BG = minHeightWidth(os.path.join(os.getcwd(), 'DataCollection', 'BG'))\n",
    "maxH_BG, maxW_BG = maxHeightWidth(os.path.join(os.getcwd(), 'DataCollection', 'BG'))"
   ]
  },
  {
   "cell_type": "code",
   "execution_count": 5,
   "metadata": {},
   "outputs": [
    {
     "name": "stdout",
     "output_type": "stream",
     "text": [
      "Images Directory: w:\\ML task\\Training\\BG\n"
     ]
    }
   ],
   "source": [
    "resizingImages(os.path.join(os.getcwd(), 'DataCollection', 'BG'), os.path.join(os.getcwd(), 'Training', 'BG'), (300, 300))"
   ]
  },
  {
   "cell_type": "markdown",
   "metadata": {},
   "source": [
    "data augmentation of Car"
   ]
  },
  {
   "cell_type": "code",
   "execution_count": 5,
   "metadata": {},
   "outputs": [
    {
     "name": "stdout",
     "output_type": "stream",
     "text": [
      "Directory Created: w:\\ML task\\AugmentedData\\Car\n",
      "done\n"
     ]
    }
   ],
   "source": [
    "augmentedMirroring(imageDir=os.path.join(os.getcwd(), 'DataCollection', 'Car'), savingDir=os.path.join(os.getcwd(), 'AugmentedData', 'Car'))"
   ]
  },
  {
   "cell_type": "code",
   "execution_count": 6,
   "metadata": {},
   "outputs": [
    {
     "name": "stdout",
     "output_type": "stream",
     "text": [
      "done angle 180\n"
     ]
    }
   ],
   "source": [
    "augmentedRotation(imageDir=os.path.join(os.getcwd(), 'DataCollection', 'Car'), savingDir=os.path.join(os.getcwd(), 'AugmentedData', 'Car'), angles=[180])"
   ]
  },
  {
   "cell_type": "code",
   "execution_count": 3,
   "metadata": {},
   "outputs": [
    {
     "name": "stdout",
     "output_type": "stream",
     "text": [
      "maximum height: 27\n",
      "maximum width: 27\n",
      "maximum height: 2139\n",
      "maximum width: 2139\n"
     ]
    }
   ],
   "source": [
    "minH_BG, minW_BG = minHeightWidth(os.path.join(os.getcwd(), 'DataCollection', 'Car'))\n",
    "maxH_BG, maxW_BG = maxHeightWidth(os.path.join(os.getcwd(), 'DataCollection', 'Car'))"
   ]
  },
  {
   "cell_type": "code",
   "execution_count": 6,
   "metadata": {},
   "outputs": [
    {
     "name": "stdout",
     "output_type": "stream",
     "text": [
      "Images Directory: w:\\ML task\\Training\\Car\n"
     ]
    }
   ],
   "source": [
    "resizingImages(os.path.join(os.getcwd(), 'DataCollection', 'Car'), os.path.join(os.getcwd(), 'Training', 'Car'), (300, 300))"
   ]
  },
  {
   "cell_type": "markdown",
   "metadata": {},
   "source": [
    "data augmentation on Humans"
   ]
  },
  {
   "cell_type": "code",
   "execution_count": 9,
   "metadata": {},
   "outputs": [
    {
     "name": "stdout",
     "output_type": "stream",
     "text": [
      "done\n"
     ]
    }
   ],
   "source": [
    "augmentedMirroring(imageDir=os.path.join(os.getcwd(), 'DataCollection', 'Humans'), savingDir=os.path.join(os.getcwd(), 'AugmentedData', 'Humans'))"
   ]
  },
  {
   "cell_type": "code",
   "execution_count": 10,
   "metadata": {},
   "outputs": [
    {
     "name": "stdout",
     "output_type": "stream",
     "text": [
      "done angle 180\n"
     ]
    }
   ],
   "source": [
    "augmentedRotation(imageDir=os.path.join(os.getcwd(), 'DataCollection', 'Humans'), savingDir=os.path.join(os.getcwd(), 'AugmentedData', 'Humans'), angles=[180])"
   ]
  },
  {
   "cell_type": "code",
   "execution_count": 4,
   "metadata": {},
   "outputs": [
    {
     "name": "stdout",
     "output_type": "stream",
     "text": [
      "maximum height: 150\n",
      "maximum width: 150\n",
      "maximum height: 150\n",
      "maximum width: 150\n"
     ]
    }
   ],
   "source": [
    "minH_BG, minW_BG = minHeightWidth(os.path.join(os.getcwd(), 'DataCollection', 'Humans'))\n",
    "maxH_BG, maxW_BG = maxHeightWidth(os.path.join(os.getcwd(), 'DataCollection', 'Humans'))"
   ]
  },
  {
   "cell_type": "code",
   "execution_count": 7,
   "metadata": {},
   "outputs": [
    {
     "name": "stdout",
     "output_type": "stream",
     "text": [
      "Images Directory: w:\\ML task\\Training\\Humans\n"
     ]
    }
   ],
   "source": [
    "resizingImages(os.path.join(os.getcwd(), 'DataCollection', 'Humans'), os.path.join(os.getcwd(), 'Training', 'Humans'), (300, 300))"
   ]
  },
  {
   "cell_type": "markdown",
   "metadata": {},
   "source": [
    "creating csv file"
   ]
  },
  {
   "cell_type": "code",
   "execution_count": 4,
   "metadata": {},
   "outputs": [],
   "source": [
    "DirToCsv(dir = os.path.join(os.getcwd(), 'Training'), filename = 'dataset.csv', shuffle = True)"
   ]
  },
  {
   "cell_type": "code",
   "execution_count": null,
   "metadata": {},
   "outputs": [],
   "source": []
  }
 ],
 "metadata": {
  "kernelspec": {
   "display_name": "Python 3",
   "language": "python",
   "name": "python3"
  },
  "language_info": {
   "codemirror_mode": {
    "name": "ipython",
    "version": 3
   },
   "file_extension": ".py",
   "mimetype": "text/x-python",
   "name": "python",
   "nbconvert_exporter": "python",
   "pygments_lexer": "ipython3",
   "version": "3.11.4"
  },
  "orig_nbformat": 4
 },
 "nbformat": 4,
 "nbformat_minor": 2
}
