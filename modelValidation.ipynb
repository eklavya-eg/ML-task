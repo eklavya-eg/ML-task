{
 "cells": [
  {
   "cell_type": "markdown",
   "metadata": {},
   "source": [
    "name: Eklavya Gupta\n",
    "university: University of Petroleum and Energy Studies\n",
    "course: B.Tech CSE AI ML   # currently in 5th semester\n",
    "sapid: 500093960\n",
    "university mail id: 500093960@stu.upes.ac.in\n",
    "personal mail id: emessage.eg@gmail.com"
   ]
  },
  {
   "cell_type": "markdown",
   "metadata": {},
   "source": [
    "loading data"
   ]
  },
  {
   "cell_type": "code",
   "execution_count": 1,
   "metadata": {},
   "outputs": [],
   "source": [
    "# name: Eklavya Gupta\n",
    "# university: University of Petroleum and Energy Studies\n",
    "# course: B.Tech CSE AI ML   # currently in 5th semester\n",
    "# sapid: 500093960\n",
    "# university mail id: 500093960@stu.upes.ac.in\n",
    "# personal mail id: emessage.eg@gmail.com\n",
    "import numpy as np\n",
    "import os\n",
    "import matplotlib.pyplot as plt\n",
    "import torch\n",
    "import torch.nn as nn\n",
    "from torch.utils.data import Dataset\n",
    "from torchvision.io import read_image\n",
    "from torchvision.models import resnet18\n",
    "import pandas as pd\n",
    "from sklearn.preprocessing import LabelEncoder\n",
    "from PIL import Image\n",
    "\n",
    "\n",
    "class CustomDataset(Dataset):\n",
    "    def __init__(self, data, transform=None):\n",
    "        self.data = data\n",
    "        self.transform = transform\n",
    "\n",
    "    def __len__(self):\n",
    "        return len(self.data)\n",
    "\n",
    "    def __getitem__(self, idx):\n",
    "        img_name, label = self.data[idx]\n",
    "        image = read_image(img_name)\n",
    "        \n",
    "        # Convert the tensor to a PIL Image\n",
    "        image = Image.fromarray(image.permute(1, 2, 0).numpy())\n",
    "        \n",
    "        if self.transform:\n",
    "            image = self.transform(image)\n",
    "        return image, label\n",
    "\n",
    "data = pd.read_csv('dataset.csv')\n",
    "le = LabelEncoder()\n",
    "data['label'] = le.fit_transform(data['label'])\n",
    "data = data.values\n"
   ]
  },
  {
   "cell_type": "code",
   "execution_count": 2,
   "metadata": {},
   "outputs": [
    {
     "name": "stderr",
     "output_type": "stream",
     "text": [
      "C:\\Users\\EKLAVYA\\AppData\\Roaming\\Python\\Python311\\site-packages\\torchvision\\models\\_utils.py:208: UserWarning: The parameter 'pretrained' is deprecated since 0.13 and may be removed in the future, please use 'weights' instead.\n",
      "  warnings.warn(\n",
      "C:\\Users\\EKLAVYA\\AppData\\Roaming\\Python\\Python311\\site-packages\\torchvision\\models\\_utils.py:223: UserWarning: Arguments other than a weight enum or `None` for 'weights' are deprecated since 0.13 and may be removed in the future. The current behavior is equivalent to passing `weights=ResNet18_Weights.IMAGENET1K_V1`. You can also use `weights=ResNet18_Weights.DEFAULT` to get the most up-to-date weights.\n",
      "  warnings.warn(msg)\n"
     ]
    },
    {
     "name": "stdout",
     "output_type": "stream",
     "text": [
      "tensor([[0.0071, 0.9845, 0.0084]])\n",
      "Predicted Class Index: 1\n",
      "Predicted Probabilities: [0.00711263 0.98449194 0.00839544]\n"
     ]
    }
   ],
   "source": [
    "import torch\n",
    "from torchvision.transforms import transforms\n",
    "from PIL import Image\n",
    "import numpy as np\n",
    "\n",
    "# Define a transform to preprocess your input image\n",
    "transform = transforms.Compose([\n",
    "    transforms.Resize((300, 300)),\n",
    "    transforms.ToTensor(),\n",
    "    transforms.Normalize(mean=[0.485, 0.456, 0.406], std=[0.229, 0.224, 0.225]),\n",
    "])\n",
    "\n",
    "input_image_path = data[0][0]\n",
    "input_image = Image.open(input_image_path)\n",
    "input_tensor = transform(input_image)\n",
    "\n",
    "model = resnet18(pretrained=True)\n",
    "model.fc = nn.Sequential(\n",
    "    nn.Linear(model.fc.in_features, 512),\n",
    "    nn.ReLU(),\n",
    "    nn.Linear(512, 3),\n",
    "    nn.LogSoftmax(dim=1)\n",
    ")\n",
    "\n",
    "\n",
    "checkpoint_path = os.path.join(os.getcwd(), 'Models', 'model_epoch_33.pth')  # Specify the path to your saved checkpoint file\n",
    "checkpoint = torch.load(checkpoint_path)\n",
    "\n",
    "model.load_state_dict(checkpoint)\n",
    "\n",
    "model.eval()\n",
    "\n",
    "\n",
    "with torch.no_grad():\n",
    "    output = model(input_tensor.unsqueeze(0))\n",
    "    probabilities = torch.exp(output)\n",
    "    print(probabilities)\n",
    "    predicted_class = torch.argmax(probabilities)\n",
    "\n",
    "\n",
    "predicted_class = predicted_class.item()\n",
    "predicted_probabilities = probabilities.squeeze().numpy()\n",
    "\n",
    "print(f\"predicted class: {predicted_class}\")\n",
    "print(f\"predicted probabilities: {predicted_probabilities}\")\n"
   ]
  },
  {
   "cell_type": "code",
   "execution_count": null,
   "metadata": {},
   "outputs": [],
   "source": []
  }
 ],
 "metadata": {
  "kernelspec": {
   "display_name": "Python 3",
   "language": "python",
   "name": "python3"
  },
  "language_info": {
   "codemirror_mode": {
    "name": "ipython",
    "version": 3
   },
   "file_extension": ".py",
   "mimetype": "text/x-python",
   "name": "python",
   "nbconvert_exporter": "python",
   "pygments_lexer": "ipython3",
   "version": "3.11.4"
  },
  "orig_nbformat": 4
 },
 "nbformat": 4,
 "nbformat_minor": 2
}
